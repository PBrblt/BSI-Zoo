{
 "cells": [
  {
   "cell_type": "code",
   "execution_count": 1,
   "metadata": {},
   "outputs": [],
   "source": [
    "import sys\n",
    "import json\n",
    "import pandas as pd\n",
    "\n",
    "import seaborn as sns\n",
    "import matplotlib.pyplot as plt"
   ]
  },
  {
   "cell_type": "code",
   "execution_count": 6,
   "metadata": {},
   "outputs": [],
   "source": [
    "PATH_TO_PROFILE = 'bsi_zoo/data/benchmark_data_CC120264_gamma_map_fixed_orient_nnz_2.pkl'\n",
    "METRIC_NAMES = ['euclidean_distance', 'mse']"
   ]
  },
  {
   "cell_type": "code",
   "execution_count": 7,
   "metadata": {},
   "outputs": [
    {
     "data": {
      "text/html": [
       "<div>\n",
       "<style scoped>\n",
       "    .dataframe tbody tr th:only-of-type {\n",
       "        vertical-align: middle;\n",
       "    }\n",
       "\n",
       "    .dataframe tbody tr th {\n",
       "        vertical-align: top;\n",
       "    }\n",
       "\n",
       "    .dataframe thead th {\n",
       "        text-align: right;\n",
       "    }\n",
       "</style>\n",
       "<table border=\"1\" class=\"dataframe\">\n",
       "  <thead>\n",
       "    <tr style=\"text-align: right;\">\n",
       "      <th></th>\n",
       "      <th>alpha=0.99</th>\n",
       "      <th>alpha=0.90</th>\n",
       "      <th>alpha=0.80</th>\n",
       "      <th>alpha=0.50</th>\n",
       "    </tr>\n",
       "  </thead>\n",
       "  <tbody>\n",
       "    <tr>\n",
       "      <th>euclidean_distance</th>\n",
       "      <td>0.000000e+00</td>\n",
       "      <td>0.000000e+00</td>\n",
       "      <td>0.000000e+00</td>\n",
       "      <td>0.000000</td>\n",
       "    </tr>\n",
       "    <tr>\n",
       "      <th>euclidean_distance</th>\n",
       "      <td>0.000000e+00</td>\n",
       "      <td>0.000000e+00</td>\n",
       "      <td>0.000000e+00</td>\n",
       "      <td>0.000000</td>\n",
       "    </tr>\n",
       "    <tr>\n",
       "      <th>euclidean_distance</th>\n",
       "      <td>0.000000e+00</td>\n",
       "      <td>0.000000e+00</td>\n",
       "      <td>0.000000e+00</td>\n",
       "      <td>0.000000</td>\n",
       "    </tr>\n",
       "    <tr>\n",
       "      <th>euclidean_distance</th>\n",
       "      <td>0.000000e+00</td>\n",
       "      <td>0.000000e+00</td>\n",
       "      <td>0.000000e+00</td>\n",
       "      <td>0.000000</td>\n",
       "    </tr>\n",
       "    <tr>\n",
       "      <th>euclidean_distance</th>\n",
       "      <td>0.000000e+00</td>\n",
       "      <td>0.000000e+00</td>\n",
       "      <td>0.000000e+00</td>\n",
       "      <td>0.024486</td>\n",
       "    </tr>\n",
       "    <tr>\n",
       "      <th>mse</th>\n",
       "      <td>1.491587e-09</td>\n",
       "      <td>1.724948e-07</td>\n",
       "      <td>8.806176e-07</td>\n",
       "      <td>0.000014</td>\n",
       "    </tr>\n",
       "    <tr>\n",
       "      <th>mse</th>\n",
       "      <td>1.734348e-09</td>\n",
       "      <td>1.489594e-07</td>\n",
       "      <td>6.603509e-07</td>\n",
       "      <td>0.000010</td>\n",
       "    </tr>\n",
       "    <tr>\n",
       "      <th>mse</th>\n",
       "      <td>7.308066e-09</td>\n",
       "      <td>5.991558e-07</td>\n",
       "      <td>2.764448e-06</td>\n",
       "      <td>0.000046</td>\n",
       "    </tr>\n",
       "    <tr>\n",
       "      <th>mse</th>\n",
       "      <td>3.472142e-09</td>\n",
       "      <td>4.160985e-07</td>\n",
       "      <td>2.118323e-06</td>\n",
       "      <td>0.000092</td>\n",
       "    </tr>\n",
       "    <tr>\n",
       "      <th>mse</th>\n",
       "      <td>6.559207e-09</td>\n",
       "      <td>1.024043e-06</td>\n",
       "      <td>9.887098e-06</td>\n",
       "      <td>0.000210</td>\n",
       "    </tr>\n",
       "  </tbody>\n",
       "</table>\n",
       "</div>"
      ],
      "text/plain": [
       "                      alpha=0.99    alpha=0.90    alpha=0.80  alpha=0.50\n",
       "euclidean_distance  0.000000e+00  0.000000e+00  0.000000e+00    0.000000\n",
       "euclidean_distance  0.000000e+00  0.000000e+00  0.000000e+00    0.000000\n",
       "euclidean_distance  0.000000e+00  0.000000e+00  0.000000e+00    0.000000\n",
       "euclidean_distance  0.000000e+00  0.000000e+00  0.000000e+00    0.000000\n",
       "euclidean_distance  0.000000e+00  0.000000e+00  0.000000e+00    0.024486\n",
       "mse                 1.491587e-09  1.724948e-07  8.806176e-07    0.000014\n",
       "mse                 1.734348e-09  1.489594e-07  6.603509e-07    0.000010\n",
       "mse                 7.308066e-09  5.991558e-07  2.764448e-06    0.000046\n",
       "mse                 3.472142e-09  4.160985e-07  2.118323e-06    0.000092\n",
       "mse                 6.559207e-09  1.024043e-06  9.887098e-06    0.000210"
      ]
     },
     "execution_count": 7,
     "metadata": {},
     "output_type": "execute_result"
    }
   ],
   "source": [
    "df = pd.read_pickle(PATH_TO_PROFILE)\n",
    "df"
   ]
  },
  {
   "cell_type": "code",
   "execution_count": 15,
   "metadata": {},
   "outputs": [
    {
     "data": {
      "image/png": "[encoded data removed]",
      "text/plain": [
       "<Figure size 432x288 with 1 Axes>"
      ]
     },
     "metadata": {
      "needs_background": "light"
     },
     "output_type": "display_data"
    },
    {
     "data": {
      "image/png": "[encoded data removed]",
      "text/plain": [
       "<Figure size 432x288 with 1 Axes>"
      ]
     },
     "metadata": {
      "needs_background": "light"
     },
     "output_type": "display_data"
    }
   ],
   "source": [
    "for metric in METRIC_NAMES:\n",
    "    plt.figure()\n",
    "    ax = sns.violinplot(data=df.loc[metric])\n",
    "    ax.set_title(metric)"
   ]
  }
 ],
 "metadata": {
  "kernelspec": {
   "display_name": "Python 3",
   "language": "python",
   "name": "python3"
  },
  "language_info": {
   "codemirror_mode": {
    "name": "ipython",
    "version": 3
   },
   "file_extension": ".py",
   "mimetype": "text/x-python",
   "name": "python",
   "nbconvert_exporter": "python",
   "pygments_lexer": "ipython3",
   "version": "3.9.4"
  }
 },
 "nbformat": 4,
 "nbformat_minor": 4
}
