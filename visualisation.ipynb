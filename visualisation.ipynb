{
 "cells": [
  {
   "cell_type": "code",
   "execution_count": 34,
   "id": "209d6549",
   "metadata": {},
   "outputs": [],
   "source": [
    "%matplotlib inline"
   ]
  },
  {
   "cell_type": "code",
   "execution_count": 10,
   "id": "086ac60f",
   "metadata": {},
   "outputs": [],
   "source": [
    "from mne.inverse_sparse.mxne_inverse import _make_sparse_stc\n",
    "from mne import read_forward_solution\n",
    "from mne.viz import plot_sparse_source_estimates\n",
    "import mne\n",
    "\n",
    "import numpy as np"
   ]
  },
  {
   "cell_type": "code",
   "execution_count": 73,
   "id": "df03f01d",
   "metadata": {},
   "outputs": [],
   "source": [
    "import os \n",
    "\n",
    "os.environ['SUBJECTS_DIR'] = '/home/anujanegi/tj/bdsg/freesurfer/subjects'\n",
    "PATH_TO_ESTIMATES = \"/home/anujanegi/tj/bdsg/BSI-Zoo/bsi_zoo/tests/data/estimates\"\n",
    "SOLVER_NAMES = ['iterative_L1' , 'iterative_L2', 'iterative_sqrt', 'iterative_L1_typeII', 'iterative_L2_typeII', 'gamma_map']"
   ]
  },
  {
   "cell_type": "code",
   "execution_count": 75,
   "id": "5f45edf9",
   "metadata": {},
   "outputs": [
    {
     "name": "stdout",
     "output_type": "stream",
     "text": [
      "------------------------------\n",
      "For iterative sqrt method...\n",
      "------------------------------\n",
      "Reading forward solution from bsi_zoo/tests/data/CC120166-fwd.fif...\n",
      "    Reading a source space...\n",
      "    [done]\n",
      "    Reading a source space...\n",
      "    [done]\n",
      "    2 source spaces read\n",
      "    Desired named matrix (kind = 3523) not available\n",
      "    Read MEG forward solution (5123 sources, 306 channels, free orientations)\n",
      "    Source spaces transformed to the forward solution coordinate frame\n",
      "    No patch info available. The standard source space normals will be employed in the rotation to the local surface coordinates....\n",
      "    Changing to fixed-orientation forward solution with surface-based source orientations...\n",
      "    [done]\n",
      "Using control points [1.55898695 1.56657165 1.57895999]\n",
      "Using control points [0.05441396 0.06291016 0.06515355]\n"
     ]
    }
   ],
   "source": [
    "for solver in SOLVER_NAMES:\n",
    "    print('-'*30)\n",
    "    print('For %s method...'%solver.replace('_', ' '))\n",
    "    print('-'*30)\n",
    "    \n",
    "    x = np.load(os.path.join(PATH_TO_ESTIMATES, solver+'_x_10.npy'))\n",
    "    x_hat = np.load(os.path.join(PATH_TO_ESTIMATES, solver+'_x_hat_10.npy'))\n",
    "    \n",
    "    fwd_fname = \"bsi_zoo/tests/data/CC120166-fwd.fif\"\n",
    "    fwd = read_forward_solution(fwd_fname)\n",
    "    fwd = mne.convert_forward_solution(fwd, force_fixed=True)\n",
    "\n",
    "    active_set = np.linalg.norm(x, axis=1) != 0\n",
    "    active_set_hat = np.linalg.norm(x_hat, axis=1) != 0\n",
    "\n",
    "    stc = _make_sparse_stc(\n",
    "        x[active_set], active_set, fwd, tmin=1, tstep=1\n",
    "    )  # ground truth\n",
    "    stc_hat = _make_sparse_stc(\n",
    "        x_hat[active_set_hat], active_set_hat, fwd, tmin=1, tstep=1\n",
    "    )  # estimate\n",
    "    \n",
    "    if stc_hat.vertices[0].any() or stc_hat.vertices[1].any():\n",
    "        brain = stc.plot(hemi='both')\n",
    "        brain.add_text(0.1, 0.9, solver+' - GT', 'title', font_size=16)\n",
    "\n",
    "        brain_hat = stc_hat.plot(hemi='both')\n",
    "        brain_hat.add_text(0.1, 0.9, solver+' - estimate', 'title', font_size=16)\n",
    "    \n",
    "    else:\n",
    "        print('No vertices estimated!')\n",
    "    \n",
    "#     plot_sparse_source_estimates(\n",
    "#             fwd[\"src\"],\n",
    "#             [stc, stc_hat],\n",
    "#             bgcolor=(1, 1, 1),\n",
    "#             opacity=0.1,\n",
    "#             fig_name=solver,\n",
    "#             # labels=[np.asarray(['Ground truth']), np.asarray(['Estimate'])]\n",
    "#         )"
   ]
  }
 ],
 "metadata": {
  "kernelspec": {
   "display_name": "Python 3",
   "language": "python",
   "name": "python3"
  },
  "language_info": {
   "codemirror_mode": {
    "name": "ipython",
    "version": 3
   },
   "file_extension": ".py",
   "mimetype": "text/x-python",
   "name": "python",
   "nbconvert_exporter": "python",
   "pygments_lexer": "ipython3",
   "version": "3.9.4"
  }
 },
 "nbformat": 4,
 "nbformat_minor": 5
}
