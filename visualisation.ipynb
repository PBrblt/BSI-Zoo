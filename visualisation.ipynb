{
 "cells": [
  {
   "cell_type": "code",
   "execution_count": 1,
   "metadata": {},
   "outputs": [],
   "source": [
    "%matplotlib inline"
   ]
  },
  {
   "cell_type": "code",
   "execution_count": 2,
   "metadata": {},
   "outputs": [],
   "source": [
    "from mne.inverse_sparse.mxne_inverse import _make_sparse_stc\n",
    "from mne import read_forward_solution\n",
    "from mne.viz import plot_sparse_source_estimates\n",
    "import mne\n",
    "\n",
    "import numpy as np"
   ]
  },
  {
   "cell_type": "code",
   "execution_count": 3,
   "metadata": {},
   "outputs": [],
   "source": [
    "import os \n",
    "\n",
    "# please update your paths\n",
    "os.environ['SUBJECTS_DIR'] = '/home/anujanegi/tj/bdsg/freesurfer/subjects'\n",
    "PATH_TO_ESTIMATES = \"bsi_zoo/tests/data/estimates\"\n",
    "SOLVER_NAMES = ['iterative_L1' , 'iterative_L2', 'iterative_sqrt', 'iterative_L1_typeII', 'iterative_L2_typeII', 'gamma_map']"
   ]
  },
  {
   "cell_type": "code",
   "execution_count": 4,
   "metadata": {},
   "outputs": [
    {
     "name": "stdout",
     "output_type": "stream",
     "text": [
      "------------------------------\n",
      "For iterative L1 method...\n",
      "------------------------------\n",
      "Reading forward solution from bsi_zoo/tests/data/CC120166-fwd.fif...\n",
      "    Reading a source space...\n",
      "    [done]\n",
      "    Reading a source space...\n",
      "    [done]\n",
      "    2 source spaces read\n",
      "    Desired named matrix (kind = 3523) not available\n",
      "    Read MEG forward solution (5123 sources, 306 channels, free orientations)\n",
      "    Source spaces transformed to the forward solution coordinate frame\n",
      "    No patch info available. The standard source space normals will be employed in the rotation to the local surface coordinates....\n",
      "    Changing to fixed-orientation forward solution with surface-based source orientations...\n",
      "    [done]\n",
      "No vertices estimated!\n",
      "------------------------------\n",
      "For iterative L2 method...\n",
      "------------------------------\n",
      "Reading forward solution from bsi_zoo/tests/data/CC120166-fwd.fif...\n",
      "    Reading a source space...\n",
      "    [done]\n",
      "    Reading a source space...\n",
      "    [done]\n",
      "    2 source spaces read\n",
      "    Desired named matrix (kind = 3523) not available\n",
      "    Read MEG forward solution (5123 sources, 306 channels, free orientations)\n",
      "    Source spaces transformed to the forward solution coordinate frame\n",
      "    No patch info available. The standard source space normals will be employed in the rotation to the local surface coordinates....\n",
      "    Changing to fixed-orientation forward solution with surface-based source orientations...\n",
      "    [done]\n",
      "No vertices estimated!\n",
      "------------------------------\n",
      "For iterative sqrt method...\n",
      "------------------------------\n",
      "Reading forward solution from bsi_zoo/tests/data/CC120166-fwd.fif...\n",
      "    Reading a source space...\n",
      "    [done]\n",
      "    Reading a source space...\n",
      "    [done]\n",
      "    2 source spaces read\n",
      "    Desired named matrix (kind = 3523) not available\n",
      "    Read MEG forward solution (5123 sources, 306 channels, free orientations)\n",
      "    Source spaces transformed to the forward solution coordinate frame\n",
      "    No patch info available. The standard source space normals will be employed in the rotation to the local surface coordinates....\n",
      "    Changing to fixed-orientation forward solution with surface-based source orientations...\n",
      "    [done]\n"
     ]
    },
    {
     "ename": "RuntimeError",
     "evalue": "Could not load any valid 3D backend: pyvista, mayavi, notebook",
     "output_type": "error",
     "traceback": [
      "\u001b[0;31m---------------------------------------------------------------------------\u001b[0m",
      "\u001b[0;31mRuntimeError\u001b[0m                              Traceback (most recent call last)",
      "\u001b[0;32m<ipython-input-4-1f5ac6447ba2>\u001b[0m in \u001b[0;36m<module>\u001b[0;34m\u001b[0m\n\u001b[1;32m     22\u001b[0m \u001b[0;34m\u001b[0m\u001b[0m\n\u001b[1;32m     23\u001b[0m     \u001b[0;32mif\u001b[0m \u001b[0mstc_hat\u001b[0m\u001b[0;34m.\u001b[0m\u001b[0mvertices\u001b[0m\u001b[0;34m[\u001b[0m\u001b[0;36m0\u001b[0m\u001b[0;34m]\u001b[0m\u001b[0;34m.\u001b[0m\u001b[0many\u001b[0m\u001b[0;34m(\u001b[0m\u001b[0;34m)\u001b[0m \u001b[0;32mor\u001b[0m \u001b[0mstc_hat\u001b[0m\u001b[0;34m.\u001b[0m\u001b[0mvertices\u001b[0m\u001b[0;34m[\u001b[0m\u001b[0;36m1\u001b[0m\u001b[0;34m]\u001b[0m\u001b[0;34m.\u001b[0m\u001b[0many\u001b[0m\u001b[0;34m(\u001b[0m\u001b[0;34m)\u001b[0m\u001b[0;34m:\u001b[0m\u001b[0;34m\u001b[0m\u001b[0;34m\u001b[0m\u001b[0m\n\u001b[0;32m---> 24\u001b[0;31m         \u001b[0mbrain\u001b[0m \u001b[0;34m=\u001b[0m \u001b[0mstc\u001b[0m\u001b[0;34m.\u001b[0m\u001b[0mplot\u001b[0m\u001b[0;34m(\u001b[0m\u001b[0mhemi\u001b[0m\u001b[0;34m=\u001b[0m\u001b[0;34m'both'\u001b[0m\u001b[0;34m)\u001b[0m\u001b[0;34m\u001b[0m\u001b[0;34m\u001b[0m\u001b[0m\n\u001b[0m\u001b[1;32m     25\u001b[0m         \u001b[0mbrain\u001b[0m\u001b[0;34m.\u001b[0m\u001b[0madd_text\u001b[0m\u001b[0;34m(\u001b[0m\u001b[0;36m0.1\u001b[0m\u001b[0;34m,\u001b[0m \u001b[0;36m0.9\u001b[0m\u001b[0;34m,\u001b[0m \u001b[0msolver\u001b[0m\u001b[0;34m+\u001b[0m\u001b[0;34m' - GT'\u001b[0m\u001b[0;34m,\u001b[0m \u001b[0;34m'title'\u001b[0m\u001b[0;34m,\u001b[0m \u001b[0mfont_size\u001b[0m\u001b[0;34m=\u001b[0m\u001b[0;36m16\u001b[0m\u001b[0;34m)\u001b[0m\u001b[0;34m\u001b[0m\u001b[0;34m\u001b[0m\u001b[0m\n\u001b[1;32m     26\u001b[0m \u001b[0;34m\u001b[0m\u001b[0m\n",
      "\u001b[0;32m~/anaconda3/lib/python3.8/site-packages/mne/source_estimate.py\u001b[0m in \u001b[0;36mplot\u001b[0;34m(self, subject, surface, hemi, colormap, time_label, smoothing_steps, transparent, alpha, time_viewer, subjects_dir, figure, views, colorbar, clim, cortex, size, background, foreground, initial_time, time_unit, backend, spacing, title, show_traces, src, volume_options, view_layout, add_data_kwargs, verbose)\u001b[0m\n\u001b[1;32m    651\u001b[0m              \u001b[0msrc\u001b[0m\u001b[0;34m=\u001b[0m\u001b[0;32mNone\u001b[0m\u001b[0;34m,\u001b[0m \u001b[0mvolume_options\u001b[0m\u001b[0;34m=\u001b[0m\u001b[0;36m1.\u001b[0m\u001b[0;34m,\u001b[0m \u001b[0mview_layout\u001b[0m\u001b[0;34m=\u001b[0m\u001b[0;34m'vertical'\u001b[0m\u001b[0;34m,\u001b[0m\u001b[0;34m\u001b[0m\u001b[0;34m\u001b[0m\u001b[0m\n\u001b[1;32m    652\u001b[0m              add_data_kwargs=None, verbose=None):\n\u001b[0;32m--> 653\u001b[0;31m         brain = plot_source_estimates(\n\u001b[0m\u001b[1;32m    654\u001b[0m             \u001b[0mself\u001b[0m\u001b[0;34m,\u001b[0m \u001b[0msubject\u001b[0m\u001b[0;34m,\u001b[0m \u001b[0msurface\u001b[0m\u001b[0;34m=\u001b[0m\u001b[0msurface\u001b[0m\u001b[0;34m,\u001b[0m \u001b[0mhemi\u001b[0m\u001b[0;34m=\u001b[0m\u001b[0mhemi\u001b[0m\u001b[0;34m,\u001b[0m \u001b[0mcolormap\u001b[0m\u001b[0;34m=\u001b[0m\u001b[0mcolormap\u001b[0m\u001b[0;34m,\u001b[0m\u001b[0;34m\u001b[0m\u001b[0;34m\u001b[0m\u001b[0m\n\u001b[1;32m    655\u001b[0m             \u001b[0mtime_label\u001b[0m\u001b[0;34m=\u001b[0m\u001b[0mtime_label\u001b[0m\u001b[0;34m,\u001b[0m \u001b[0msmoothing_steps\u001b[0m\u001b[0;34m=\u001b[0m\u001b[0msmoothing_steps\u001b[0m\u001b[0;34m,\u001b[0m\u001b[0;34m\u001b[0m\u001b[0;34m\u001b[0m\u001b[0m\n",
      "\u001b[0;32m<decorator-gen-142>\u001b[0m in \u001b[0;36mplot_source_estimates\u001b[0;34m(stc, subject, surface, hemi, colormap, time_label, smoothing_steps, transparent, alpha, time_viewer, subjects_dir, figure, views, colorbar, clim, cortex, size, background, foreground, initial_time, time_unit, backend, spacing, title, show_traces, src, volume_options, view_layout, add_data_kwargs, verbose)\u001b[0m\n",
      "\u001b[0;32m~/anaconda3/lib/python3.8/site-packages/mne/viz/_3d.py\u001b[0m in \u001b[0;36mplot_source_estimates\u001b[0;34m(stc, subject, surface, hemi, colormap, time_label, smoothing_steps, transparent, alpha, time_viewer, subjects_dir, figure, views, colorbar, clim, cortex, size, background, foreground, initial_time, time_unit, backend, spacing, title, show_traces, src, volume_options, view_layout, add_data_kwargs, verbose)\u001b[0m\n\u001b[1;32m   1803\u001b[0m         \u001b[0;32mtry\u001b[0m\u001b[0;34m:\u001b[0m\u001b[0;34m\u001b[0m\u001b[0;34m\u001b[0m\u001b[0m\n\u001b[1;32m   1804\u001b[0m             \u001b[0;32mif\u001b[0m \u001b[0mbackend\u001b[0m \u001b[0;34m==\u001b[0m \u001b[0;34m'auto'\u001b[0m\u001b[0;34m:\u001b[0m\u001b[0;34m\u001b[0m\u001b[0;34m\u001b[0m\u001b[0m\n\u001b[0;32m-> 1805\u001b[0;31m                 \u001b[0mset_3d_backend\u001b[0m\u001b[0;34m(\u001b[0m\u001b[0m_get_3d_backend\u001b[0m\u001b[0;34m(\u001b[0m\u001b[0;34m)\u001b[0m\u001b[0;34m)\u001b[0m\u001b[0;34m\u001b[0m\u001b[0;34m\u001b[0m\u001b[0m\n\u001b[0m\u001b[1;32m   1806\u001b[0m             \u001b[0;32melse\u001b[0m\u001b[0;34m:\u001b[0m\u001b[0;34m\u001b[0m\u001b[0;34m\u001b[0m\u001b[0m\n\u001b[1;32m   1807\u001b[0m                 \u001b[0mset_3d_backend\u001b[0m\u001b[0;34m(\u001b[0m\u001b[0mbackend\u001b[0m\u001b[0;34m)\u001b[0m\u001b[0;34m\u001b[0m\u001b[0;34m\u001b[0m\u001b[0m\n",
      "\u001b[0;32m~/anaconda3/lib/python3.8/site-packages/mne/viz/backends/renderer.py\u001b[0m in \u001b[0;36m_get_3d_backend\u001b[0;34m()\u001b[0m\n\u001b[1;32m    147\u001b[0m                     \u001b[0;32mbreak\u001b[0m\u001b[0;34m\u001b[0m\u001b[0;34m\u001b[0m\u001b[0m\n\u001b[1;32m    148\u001b[0m             \u001b[0;32melse\u001b[0m\u001b[0;34m:\u001b[0m\u001b[0;34m\u001b[0m\u001b[0;34m\u001b[0m\u001b[0m\n\u001b[0;32m--> 149\u001b[0;31m                 raise RuntimeError(f'Could not load any valid 3D backend: '\n\u001b[0m\u001b[1;32m    150\u001b[0m                                    f'{\", \".join(VALID_3D_BACKENDS)}')\n\u001b[1;32m    151\u001b[0m         \u001b[0;32melse\u001b[0m\u001b[0;34m:\u001b[0m\u001b[0;34m\u001b[0m\u001b[0;34m\u001b[0m\u001b[0m\n",
      "\u001b[0;31mRuntimeError\u001b[0m: Could not load any valid 3D backend: pyvista, mayavi, notebook"
     ]
    }
   ],
   "source": [
    "for solver in SOLVER_NAMES:\n",
    "    print('-'*30)\n",
    "    print('For %s method...'%solver.replace('_', ' '))\n",
    "    print('-'*30)\n",
    "    \n",
    "    x = np.load(os.path.join(PATH_TO_ESTIMATES, solver+'_x_10.npy'))\n",
    "    x_hat = np.load(os.path.join(PATH_TO_ESTIMATES, solver+'_x_hat_10.npy'))\n",
    "    \n",
    "    fwd_fname = \"bsi_zoo/tests/data/CC120166-fwd.fif\"\n",
    "    fwd = read_forward_solution(fwd_fname)\n",
    "    fwd = mne.convert_forward_solution(fwd, force_fixed=True)\n",
    "\n",
    "    active_set = np.linalg.norm(x, axis=1) != 0\n",
    "    active_set_hat = np.linalg.norm(x_hat, axis=1) != 0\n",
    "\n",
    "    stc = _make_sparse_stc(\n",
    "        x[active_set], active_set, fwd, tmin=1, tstep=1\n",
    "    )  # ground truth\n",
    "    stc_hat = _make_sparse_stc(\n",
    "        x_hat[active_set_hat], active_set_hat, fwd, tmin=1, tstep=1\n",
    "    )  # estimate\n",
    "    \n",
    "    if stc_hat.vertices[0].any() or stc_hat.vertices[1].any():\n",
    "        brain = stc.plot(hemi='both')\n",
    "        brain.add_text(0.1, 0.9, solver+' - GT', 'title', font_size=16)\n",
    "\n",
    "        brain_hat = stc_hat.plot(hemi='both')\n",
    "        brain_hat.add_text(0.1, 0.9, solver+' - estimate', 'title', font_size=16)\n",
    "    \n",
    "    else:\n",
    "        print('No vertices estimated!')\n",
    "\n",
    "#     if stc_hat.vertices[0].any() or stc_hat.vertices[1].any():\n",
    "#         plot_sparse_source_estimates(\n",
    "#                 fwd[\"src\"],\n",
    "#                 [stc, stc_hat],\n",
    "#                 bgcolor=(1, 1, 1),\n",
    "#                 opacity=0.1,\n",
    "#                 fig_name=solver,\n",
    "#                 # labels=[np.asarray(['Ground truth']), np.asarray(['Estimate'])]\n",
    "#             )\n",
    "#     else:\n",
    "#         print('No vertices estimated!')"
   ]
  }
 ],
 "metadata": {
  "kernelspec": {
   "display_name": "Python 3",
   "language": "python",
   "name": "python3"
  },
  "language_info": {
   "codemirror_mode": {
    "name": "ipython",
    "version": 3
   },
   "file_extension": ".py",
   "mimetype": "text/x-python",
   "name": "python",
   "nbconvert_exporter": "python",
   "pygments_lexer": "ipython3",
   "version": "3.8.5"
  }
 },
 "nbformat": 4,
 "nbformat_minor": 5
}
